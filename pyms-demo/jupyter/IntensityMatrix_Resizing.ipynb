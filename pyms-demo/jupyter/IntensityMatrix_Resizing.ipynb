{
 "cells": [
  {
   "cell_type": "markdown",
   "source": [
    "# Example: IntensityMatrix Resizing\n",
    "\n",
    "Once an IntensityMatrix has been constructed from the raw GC-MS data, the \n",
    "entries of the matrix can be modified. These modifications can operate on the\n",
    "entire matrix, or individual masses or scans.\n",
    "\n",
    "First, setup the paths to the datafiles and the output directory, then import JCAMP_reader and build_intensity_matrix."
   ],
   "metadata": {
    "collapsed": false,
    "pycharm": {
     "name": "#%% md\n"
    }
   }
  },
  {
   "cell_type": "code",
   "execution_count": 26,
   "outputs": [],
   "source": [
    "import pathlib\n",
    "data_directory = pathlib.Path(\".\").resolve().parent.parent / \"pyms-data\"\n",
    "# Change this if the data files are stored in a different location\n",
    "\n",
    "output_directory = pathlib.Path(\".\").resolve() / \"output\"\n",
    "\n",
    "from pyms.GCMS.IO.JCAMP import JCAMP_reader\n",
    "from pyms.IntensityMatrix import build_intensity_matrix"
   ],
   "metadata": {
    "collapsed": false,
    "pycharm": {
     "name": "#%%\n",
     "is_executing": false
    }
   }
  },
  {
   "cell_type": "markdown",
   "source": [
    "Read the raw data files and create the IntensityMatrix."
   ],
   "metadata": {
    "collapsed": false
   }
  },
  {
   "cell_type": "code",
   "execution_count": 27,
   "outputs": [
    {
     "name": "stdout",
     "text": [
      " -> Reading JCAMP file '/home/domdf/Python/00 Projects/pyms-github/pyms-data/gc01_0812_066.jdx'\n"
     ],
     "output_type": "stream"
    }
   ],
   "source": [
    "jcamp_file = data_directory / \"gc01_0812_066.jdx\"\n",
    "data = JCAMP_reader(jcamp_file)\n",
    "im = build_intensity_matrix(data)"
   ],
   "metadata": {
    "collapsed": false,
    "pycharm": {
     "name": "#%%\n",
     "is_executing": false
    }
   }
  },
  {
   "cell_type": "markdown",
   "source": [
    "## Retention time range\n",
    "\n",
    "A basic operation on the GC-MS data is to select a specific time range for\n",
    "processing. In PyMassSpec, any data outside the chosen time range is discarded.\n",
    "The |trim()| method operates on the raw data, so any subsequent processing only\n",
    "refers to the trimmed data.\n",
    "\n",
    "The data can be trimmed to specific scans:"
   ],
   "metadata": {
    "collapsed": false,
    "pycharm": {
     "name": "#%% md\n"
    }
   }
  },
  {
   "cell_type": "code",
   "execution_count": 28,
   "outputs": [
    {
     "name": "stdout",
     "text": [
      "Trimming data to between 1000 and 2001 scans\n",
      " Data retention time range: 11.342 min -- 17.604 min\n",
      " Time step: 0.375 s (std=0.000 s)\n",
      " Number of scans: 1002\n",
      " Minimum m/z measured: 50.100\n",
      " Maximum m/z measured: 467.100\n",
      " Mean number of m/z values per scan: 57\n",
      " Median number of m/z values per scan: 44\n"
     ],
     "output_type": "stream"
    }
   ],
   "source": [
    "data.trim(1000, 2000)\n",
    "data.info()"
   ],
   "metadata": {
    "collapsed": false,
    "pycharm": {
     "name": "#%%\n",
     "is_executing": false
    }
   }
  },
  {
   "cell_type": "markdown",
   "source": [
    "or specific retention times (in ``seconds`` or ``minutes``):"
   ],
   "metadata": {
    "collapsed": false,
    "pycharm": {
     "name": "#%% md\n"
    }
   }
  },
  {
   "cell_type": "code",
   "execution_count": 29,
   "outputs": [
    {
     "name": "stdout",
     "text": [
      "Trimming data to between 54 and 587 scans\n",
      " Data retention time range: 11.674 min -- 15.008 min\n",
      " Time step: 0.375 s (std=0.000 s)\n",
      " Number of scans: 534\n",
      " Minimum m/z measured: 50.100\n",
      " Maximum m/z measured: 395.200\n",
      " Mean number of m/z values per scan: 59\n",
      " Median number of m/z values per scan: 47\n"
     ],
     "output_type": "stream"
    }
   ],
   "source": [
    "data.trim(\"700s\", \"15m\")\n",
    "data.info()"
   ],
   "metadata": {
    "collapsed": false,
    "pycharm": {
     "name": "#%%\n",
     "is_executing": false
    }
   }
  },
  {
   "cell_type": "markdown",
   "source": [
    "## Mass Spectrum range and entries\n",
    "\n",
    "An |IntensityMatrix| object has a set mass range and interval that is derived\n",
    "from the data at the time of building the intensity matrix. The range of mass\n",
    "values can be cropped. This is done, primarily, to ensure that the range of\n",
    "masses used are consistent when comparing samples.\n",
    "\n",
    "The mass range of the intensity matrix can be \"cropped\" to a new (smaller)\n",
    "range as follows:"
   ],
   "metadata": {
    "collapsed": false,
    "pycharm": {
     "name": "#%% md\n"
    }
   }
  },
  {
   "cell_type": "code",
   "execution_count": 30,
   "outputs": [
    {
     "data": {
      "text/plain": "60.0"
     },
     "metadata": {},
     "output_type": "execute_result",
     "execution_count": 30
    }
   ],
   "source": [
    "im.crop_mass(60, 400)\n",
    "im.min_mass"
   ],
   "metadata": {
    "collapsed": false,
    "pycharm": {
     "name": "#%%\n",
     "is_executing": false
    }
   }
  },
  {
   "cell_type": "code",
   "execution_count": 31,
   "outputs": [
    {
     "data": {
      "text/plain": "400.0"
     },
     "metadata": {},
     "output_type": "execute_result",
     "execution_count": 31
    }
   ],
   "source": [
    "im.max_mass"
   ],
   "metadata": {
    "collapsed": false,
    "pycharm": {
     "name": "#%%\n",
     "is_executing": false
    }
   }
  },
  {
   "cell_type": "markdown",
   "source": [
    "It is also possible to set all intensities for a given mass to zero. This is\n",
    "useful for ignoring masses associated with sample preparation. The mass can be\n",
    "\"nulled\" with:"
   ],
   "metadata": {
    "collapsed": false,
    "pycharm": {
     "name": "#%% md\n",
     "is_executing": false
    }
   }
  },
  {
   "cell_type": "code",
   "source": [
    "im.null_mass(73)\n",
    "sum(im.get_ic_at_mass(73).intensity_array)"
   ],
   "metadata": {
    "collapsed": false,
    "pycharm": {
     "name": "#%%\n",
     "is_executing": false
    }
   },
   "execution_count": 32,
   "outputs": [
    {
     "data": {
      "text/plain": "0.0"
     },
     "metadata": {},
     "output_type": "execute_result",
     "execution_count": 32
    }
   ]
  },
  {
   "cell_type": "markdown",
   "source": [
    "As expected, the sum of the intensity array is `0`"
   ],
   "metadata": {
    "collapsed": false,
    "pycharm": {
     "name": "#%% md\n"
    }
   }
  }
 ],
 "metadata": {
  "kernelspec": {
   "display_name": "Python 3",
   "language": "python",
   "name": "python3"
  },
  "language_info": {
   "codemirror_mode": {
    "name": "ipython",
    "version": 2
   },
   "file_extension": ".py",
   "mimetype": "text/x-python",
   "name": "python",
   "nbconvert_exporter": "python",
   "pygments_lexer": "ipython2",
   "version": "2.7.6"
  },
  "pycharm": {
   "stem_cell": {
    "cell_type": "raw",
    "source": [],
    "metadata": {
     "collapsed": false
    }
   }
  }
 },
 "nbformat": 4,
 "nbformat_minor": 0
}