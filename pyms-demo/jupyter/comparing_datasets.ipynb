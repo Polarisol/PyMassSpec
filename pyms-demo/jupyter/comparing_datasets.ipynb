{
 "cells": [
  {
   "cell_type": "markdown",
   "source": [
    "# Example: Comparing two GC-MS data sets\n",
    "\n",
    "Occasionally it is useful to compare two data sets. For example,\n",
    "one may want to check the consistency between the data set\n",
    "exported in netCDF format from the manufacturer's software, and\n",
    "the JCAMP format exported from a third party software.\n",
    "\n",
    "\n",
    "\n",
    "First, setup the paths to the datafiles and the output directory, then import JCAMP_reader and AMDI_reader."
   ],
   "metadata": {
    "collapsed": false
   }
  },
  {
   "cell_type": "code",
   "execution_count": 10,
   "outputs": [],
   "source": [
    "import pathlib\n",
    "data_directory = pathlib.Path(\".\").resolve().parent.parent / \"pyms-data\"\n",
    "# Change this if the data files are stored in a different location\n",
    "\n",
    "output_directory = pathlib.Path(\".\").resolve() / \"output\"\n",
    "\n",
    "from pyms.GCMS.IO.JCAMP import JCAMP_reader\n",
    "from pyms.GCMS.IO.ANDI import ANDI_reader"
   ],
   "metadata": {
    "collapsed": false,
    "pycharm": {
     "name": "#%%\n",
     "is_executing": false
    }
   }
  },
  {
   "cell_type": "markdown",
   "source": [
    "Then the raw data is read as before."
   ],
   "metadata": {
    "collapsed": false
   }
  },
  {
   "cell_type": "code",
   "execution_count": 11,
   "outputs": [
    {
     "name": "stdout",
     "text": [
      " -> Reading netCDF file '/home/domdf/Python/00 Projects/pyms-github/pyms-data/gc01_0812_066.cdf'\n"
     ],
     "output_type": "stream"
    },
    {
     "data": {
      "text/plain": "<pyms.GCMS.Class.GCMS_data at 0x7f0f9697d860>"
     },
     "metadata": {},
     "output_type": "execute_result",
     "execution_count": 11
    }
   ],
   "source": [
    "andi_file = data_directory / \"gc01_0812_066.cdf\"\n",
    "data1 = ANDI_reader(andi_file)\n",
    "data1"
   ],
   "metadata": {
    "collapsed": false,
    "pycharm": {
     "name": "#%%\n",
     "is_executing": false
    }
   }
  },
  {
   "cell_type": "code",
   "execution_count": 12,
   "outputs": [
    {
     "name": "stdout",
     "text": [
      " -> Reading JCAMP file '/home/domdf/Python/00 Projects/pyms-github/pyms-data/gc01_0812_066.jdx'\n"
     ],
     "output_type": "stream"
    },
    {
     "data": {
      "text/plain": "<pyms.GCMS.Class.GCMS_data at 0x7f0f9533b1d0>"
     },
     "metadata": {},
     "output_type": "execute_result",
     "execution_count": 12
    }
   ],
   "source": [
    "jcamp_file = data_directory / \"gc01_0812_066.jdx\"\n",
    "data2 = JCAMP_reader(jcamp_file)\n",
    "data2"
   ],
   "metadata": {
    "collapsed": false,
    "pycharm": {
     "name": "#%%\n",
     "is_executing": false
    }
   }
  },
  {
   "cell_type": "markdown",
   "source": [
    "To compare the two data sets, use the function |diff()|"
   ],
   "metadata": {
    "collapsed": false
   }
  },
  {
   "cell_type": "code",
   "execution_count": 13,
   "outputs": [
    {
     "name": "stdout",
     "text": [
      " Data sets have the same number of time points.\n",
      "   Time RMSD: 3.54e-04\n",
      " Checking for consistency in scan lengths ...OK\n",
      " Calculating maximum RMSD for m/z values and intensities ...\n",
      "   Max m/z RMSD: 1.03e-05\n",
      "   Max intensity RMSD: 0.00e+00\n"
     ],
     "output_type": "stream"
    }
   ],
   "source": [
    "from pyms.GCMS.Function import diff\n",
    "\n",
    "diff(data1, data2)\n"
   ],
   "metadata": {
    "collapsed": false,
    "pycharm": {
     "name": "#%%\n",
     "is_executing": false
    }
   }
  },
  {
   "cell_type": "markdown",
   "source": [
    "If the data cannot be compared, for example because of\n",
    "different number of scans, or inconsistent number of m/z values\n",
    "in between two scans, |diff()|\n",
    "will report the difference. For example:"
   ],
   "metadata": {
    "collapsed": false
   }
  },
  {
   "cell_type": "code",
   "execution_count": 14,
   "outputs": [
    {
     "name": "stdout",
     "text": [
      "Trimming data to between 1000 and 2001 scans\n"
     ],
     "output_type": "stream"
    }
   ],
   "source": [
    "data2.trim(begin=1000, end=2000)\n"
   ],
   "metadata": {
    "collapsed": false,
    "pycharm": {
     "name": "#%%\n",
     "is_executing": false
    }
   }
  },
  {
   "cell_type": "code",
   "execution_count": 15,
   "outputs": [
    {
     "name": "stdout",
     "text": [
      " The number of retention time points differ.\n",
      "\tFirst data set: 9865 time points\n",
      "\tSecond data set: 1002 time points\n",
      " Data sets are different.\n"
     ],
     "output_type": "stream"
    }
   ],
   "source": [
    "diff(data1, data2)\n",
    "\n"
   ],
   "metadata": {
    "collapsed": false,
    "pycharm": {
     "name": "#%%\n",
     "is_executing": false
    }
   }
  }
 ],
 "metadata": {
  "kernelspec": {
   "display_name": "Python 3",
   "language": "python",
   "name": "python3"
  },
  "language_info": {
   "codemirror_mode": {
    "name": "ipython",
    "version": 2
   },
   "file_extension": ".py",
   "mimetype": "text/x-python",
   "name": "python",
   "nbconvert_exporter": "python",
   "pygments_lexer": "ipython2",
   "version": "2.7.6"
  },
  "pycharm": {
   "stem_cell": {
    "cell_type": "raw",
    "source": [],
    "metadata": {
     "collapsed": false
    }
   }
  }
 },
 "nbformat": 4,
 "nbformat_minor": 0
}
