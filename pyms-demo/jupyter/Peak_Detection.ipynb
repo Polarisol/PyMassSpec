{
 "cells": [
  {
   "cell_type": "markdown",
   "source": [
    "## Example: Peak Detection\n",
    "\n",
    "First, setup the paths to the datafiles and the output directory, then import JCAMP_reader and build_intensity_matrix."
   ],
   "metadata": {
    "collapsed": false,
    "pycharm": {
     "name": "#%% md\n"
    }
   }
  },
  {
   "cell_type": "code",
   "execution_count": 16,
   "outputs": [],
   "source": [
    "import pathlib\n",
    "data_directory = pathlib.Path(\".\").resolve().parent.parent / \"pyms-data\"\n",
    "# Change this if the data files are stored in a different location\n",
    "\n",
    "output_directory = pathlib.Path(\".\").resolve() / \"output\"\n",
    "\n",
    "from pyms.GCMS.IO.JCAMP import JCAMP_reader\n",
    "from pyms.IntensityMatrix import build_intensity_matrix"
   ],
   "metadata": {
    "collapsed": false,
    "pycharm": {
     "name": "#%%\n",
     "is_executing": false
    }
   }
  },
  {
   "cell_type": "markdown",
   "source": [
    "Read the raw data file and build the |IntensityMatrix|."
   ],
   "metadata": {
    "collapsed": false
   }
  },
  {
   "cell_type": "code",
   "execution_count": 17,
   "outputs": [
    {
     "name": "stdout",
     "text": [
      " -> Reading JCAMP file '/home/domdf/Python/00 Projects/pyms-github/pyms-data/gc01_0812_066.jdx'\n"
     ],
     "output_type": "stream"
    }
   ],
   "source": [
    "jcamp_file = data_directory / \"gc01_0812_066.jdx\"\n",
    "data = JCAMP_reader(jcamp_file)\n",
    "im = build_intensity_matrix(data)"
   ],
   "metadata": {
    "collapsed": false,
    "pycharm": {
     "name": "#%%\n",
     "is_executing": false
    }
   }
  },
  {
   "cell_type": "markdown",
   "source": [
    "Preprocess the data (Savitzky-Golay smoothing and Tophat baseline detection"
   ],
   "metadata": {
    "collapsed": false
   }
  },
  {
   "cell_type": "code",
   "execution_count": 18,
   "outputs": [],
   "source": [
    "from pyms.Noise.SavitzkyGolay import savitzky_golay\n",
    "from pyms.TopHat import tophat\n",
    "\n",
    "n_scan, n_mz = im.size\n",
    "\n",
    "for ii in range(n_mz):\n",
    "    ic = im.get_ic_at_index(ii)\n",
    "    ic_smooth = savitzky_golay(ic)\n",
    "    ic_bc = tophat(ic_smooth, struct=\"1.5m\")\n",
    "    im.set_ic_at_index(ii, ic_bc)"
   ],
   "metadata": {
    "collapsed": false,
    "pycharm": {
     "name": "#%%\n",
     "is_executing": false
    }
   }
  },
  {
   "cell_type": "markdown",
   "source": [
    "Now the Biller and Biemann based technique can be applied to detect peaks."
   ],
   "metadata": {
    "collapsed": false
   }
  },
  {
   "cell_type": "code",
   "execution_count": 19,
   "outputs": [
    {
     "data": {
      "text/plain": "[<pyms.Peak.Class.Peak at 0x7f29ea469d30>,\n <pyms.Peak.Class.Peak at 0x7f29ea4696a0>,\n <pyms.Peak.Class.Peak at 0x7f29ea469da0>,\n <pyms.Peak.Class.Peak at 0x7f29ea469d68>,\n <pyms.Peak.Class.Peak at 0x7f29ea469860>,\n <pyms.Peak.Class.Peak at 0x7f29ea469eb8>,\n <pyms.Peak.Class.Peak at 0x7f29ea469e48>,\n <pyms.Peak.Class.Peak at 0x7f29ea469e10>,\n <pyms.Peak.Class.Peak at 0x7f29ea469f28>,\n <pyms.Peak.Class.Peak at 0x7f29ea469f60>]"
     },
     "metadata": {},
     "output_type": "execute_result",
     "execution_count": 19
    }
   ],
   "source": [
    "from pyms.BillerBiemann import BillerBiemann\n",
    "peak_list = BillerBiemann(im)\n",
    "peak_list[:10]"
   ],
   "metadata": {
    "collapsed": false,
    "pycharm": {
     "name": "#%%\n",
     "is_executing": false
    }
   }
  },
  {
   "cell_type": "code",
   "execution_count": 20,
   "outputs": [
    {
     "data": {
      "text/plain": "9845"
     },
     "metadata": {},
     "output_type": "execute_result",
     "execution_count": 20
    }
   ],
   "source": [
    "len(peak_list)\n"
   ],
   "metadata": {
    "collapsed": false,
    "pycharm": {
     "name": "#%%\n",
     "is_executing": false
    }
   }
  },
  {
   "cell_type": "markdown",
   "source": [
    "Note that this is nearly as many peaks as there are scans in the data\n",
    "(9865 scans). This is due to noise and the simplicity of the technique.\n",
    "\n",
    "The number of detected peaks can be constrained by the selection of better\n",
    "parameters. Parameters can be determined by counting the number of points\n",
    "across a peak, and examining where peaks are found. For example, the peak\n",
    "list can be found with the parameters of a window of 9 points and by\n",
    "combining 2 neighbouring scans if they apex next to each other:\n"
   ],
   "metadata": {
    "collapsed": false,
    "pycharm": {
     "name": "#%% md\n",
     "is_executing": false
    }
   }
  },
  {
   "cell_type": "code",
   "source": [
    "peak_list = BillerBiemann(im, points=9, scans=2)\n",
    "peak_list[:10]"
   ],
   "metadata": {
    "collapsed": false,
    "pycharm": {
     "name": "#%% \n",
     "is_executing": false
    }
   },
   "execution_count": 21,
   "outputs": [
    {
     "data": {
      "text/plain": "[<pyms.Peak.Class.Peak at 0x7f2a4c32eeb8>,\n <pyms.Peak.Class.Peak at 0x7f2a077b4b38>,\n <pyms.Peak.Class.Peak at 0x7f2a077e8eb8>,\n <pyms.Peak.Class.Peak at 0x7f2a07796c88>,\n <pyms.Peak.Class.Peak at 0x7f2a07796be0>,\n <pyms.Peak.Class.Peak at 0x7f2a4c34b9b0>,\n <pyms.Peak.Class.Peak at 0x7f2a4c34b390>,\n <pyms.Peak.Class.Peak at 0x7f29ebd72128>,\n <pyms.Peak.Class.Peak at 0x7f29ebd72198>,\n <pyms.Peak.Class.Peak at 0x7f29ebd72208>]"
     },
     "metadata": {},
     "output_type": "execute_result",
     "execution_count": 21
    }
   ]
  },
  {
   "cell_type": "code",
   "execution_count": 22,
   "outputs": [
    {
     "data": {
      "text/plain": "3695"
     },
     "metadata": {},
     "output_type": "execute_result",
     "execution_count": 22
    }
   ],
   "source": [
    "len(peak_list)\n"
   ],
   "metadata": {
    "collapsed": false,
    "pycharm": {
     "name": "#%%\n",
     "is_executing": false
    }
   }
  },
  {
   "cell_type": "markdown",
   "source": [
    "The number of detected peaks has been reduced, but there are still many more\n",
    "than would be expected from the sample. Functions to filter the peak list are\n",
    "covered in the next example.\n",
    "\n",
    "## Example: Peak List Filtering\n",
    "\n",
    "There are two functions to filter the list of Peak objects.\n",
    "\n",
    "The first, |rel_threshold()| modifies the mass spectrum stored in each peak so\n",
    "any intensity that is less than a given percentage of the maximum intensity for the peak is removed.\n",
    "\n",
    "The second, |num_ions_threshold()|, removes any peak that has less than a given\n",
    "number of ions above a given threshold.\n",
    "\n",
    "Once the peak list has been constructed, the filters can be applied as follows:"
   ],
   "metadata": {
    "collapsed": false,
    "pycharm": {
     "name": "#%% md\n",
     "is_executing": false
    }
   }
  },
  {
   "cell_type": "code",
   "execution_count": 23,
   "outputs": [
    {
     "data": {
      "text/plain": "[<pyms.Peak.Class.Peak at 0x7f29eae099e8>,\n <pyms.Peak.Class.Peak at 0x7f29eae09a58>,\n <pyms.Peak.Class.Peak at 0x7f29eae09c88>,\n <pyms.Peak.Class.Peak at 0x7f29eae2e128>,\n <pyms.Peak.Class.Peak at 0x7f29eae2e2e8>,\n <pyms.Peak.Class.Peak at 0x7f29eae2e358>,\n <pyms.Peak.Class.Peak at 0x7f29eae2e588>,\n <pyms.Peak.Class.Peak at 0x7f29eae2e5f8>,\n <pyms.Peak.Class.Peak at 0x7f29eae2e828>,\n <pyms.Peak.Class.Peak at 0x7f29eae2e898>]"
     },
     "metadata": {},
     "output_type": "execute_result",
     "execution_count": 23
    }
   ],
   "source": [
    "from pyms.BillerBiemann import rel_threshold, num_ions_threshold\n",
    "pl = rel_threshold(peak_list, percent=2)\n",
    "pl[:10]"
   ],
   "metadata": {
    "collapsed": false,
    "pycharm": {
     "name": "#%%\n",
     "is_executing": false
    }
   }
  },
  {
   "cell_type": "code",
   "execution_count": 24,
   "outputs": [
    {
     "data": {
      "text/plain": "[<pyms.Peak.Class.Peak at 0x7f2a08617438>,\n <pyms.Peak.Class.Peak at 0x7f2a08617518>,\n <pyms.Peak.Class.Peak at 0x7f2a08617630>,\n <pyms.Peak.Class.Peak at 0x7f2a08617668>,\n <pyms.Peak.Class.Peak at 0x7f2a08617710>,\n <pyms.Peak.Class.Peak at 0x7f2a086177b8>,\n <pyms.Peak.Class.Peak at 0x7f2a08617860>,\n <pyms.Peak.Class.Peak at 0x7f2a08617908>,\n <pyms.Peak.Class.Peak at 0x7f2a086179b0>,\n <pyms.Peak.Class.Peak at 0x7f2a08617a58>]"
     },
     "metadata": {},
     "output_type": "execute_result",
     "execution_count": 24
    }
   ],
   "source": [
    "new_peak_list = num_ions_threshold(pl, n=3, cutoff=10000)\n",
    "new_peak_list[:10]"
   ],
   "metadata": {
    "collapsed": false,
    "pycharm": {
     "name": "#%%\n",
     "is_executing": false
    }
   }
  },
  {
   "cell_type": "code",
   "execution_count": 25,
   "outputs": [
    {
     "data": {
      "text/plain": "146"
     },
     "metadata": {},
     "output_type": "execute_result",
     "execution_count": 25
    }
   ],
   "source": [
    "len(new_peak_list)"
   ],
   "metadata": {
    "collapsed": false,
    "pycharm": {
     "name": "#%%\n",
     "is_executing": false
    }
   }
  },
  {
   "cell_type": "markdown",
   "source": [
    "The number of detected peaks is now more realistic of what would be expected in\n",
    "the test sample."
   ],
   "metadata": {
    "collapsed": false,
    "pycharm": {
     "name": "#%% md\n"
    }
   }
  }
 ],
 "metadata": {
  "kernelspec": {
   "display_name": "Python 3",
   "language": "python",
   "name": "python3"
  },
  "language_info": {
   "codemirror_mode": {
    "name": "ipython",
    "version": 2
   },
   "file_extension": ".py",
   "mimetype": "text/x-python",
   "name": "python",
   "nbconvert_exporter": "python",
   "pygments_lexer": "ipython2",
   "version": "2.7.6"
  },
  "pycharm": {
   "stem_cell": {
    "cell_type": "raw",
    "source": [],
    "metadata": {
     "collapsed": false
    }
   }
  }
 },
 "nbformat": 4,
 "nbformat_minor": 0
}
