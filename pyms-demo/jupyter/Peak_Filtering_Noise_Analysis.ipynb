{
 "cells": [
  {
   "cell_type": "markdown",
   "source": [
    "# Noise analysis for peak filtering\n",
    "\n",
    "In the previous example the cutoff parameter for peak filtering was set by the\n",
    "user. This can work well for individual data files, but can cause problems when\n",
    "applied to large experiments with many individual data files. Where experimental\n",
    "conditions have changed slightly between experimental runs, the ion intensity\n",
    "over the GC-MS run may also change. This means that an inflexible cutoff value\n",
    "can work for some data files, while excluding too many, or including too many\n",
    "peaks in other files.\n",
    "\n",
    "An alternative to manually setting the value for cutoff is to use the\n",
    "|window_analyzer()| function. This function examines a Total Ion Chromatogram\n",
    "(TIC) and computes a value for the median absolute deviation in troughs between\n",
    "peaks. This gives an approximate threshold value above which false peaks from\n",
    "noise should be filtered out.\n",
    "\n",
    "First, build the Peak list as before"
   ],
   "metadata": {
    "collapsed": false,
    "pycharm": {
     "name": "#%% md\n"
    }
   }
  },
  {
   "cell_type": "code",
   "execution_count": 1,
   "outputs": [
    {
     "name": "stdout",
     "text": [
      " -> Reading JCAMP file '/home/domdf/Python/00 Projects/pyms-github/pyms-data/gc01_0812_066.jdx'\n"
     ],
     "output_type": "stream"
    }
   ],
   "source": [
    "import pathlib\n",
    "data_directory = pathlib.Path(\".\").resolve().parent.parent / \"pyms-data\"\n",
    "# Change this if the data files are stored in a different location\n",
    "\n",
    "output_directory = pathlib.Path(\".\").resolve() / \"output\"\n",
    "\n",
    "from pyms.GCMS.IO.JCAMP import JCAMP_reader\n",
    "from pyms.IntensityMatrix import build_intensity_matrix\n",
    "from pyms.Noise.SavitzkyGolay import savitzky_golay\n",
    "from pyms.TopHat import tophat\n",
    "from pyms.BillerBiemann import BillerBiemann\n",
    "\n",
    "jcamp_file = data_directory / \"gc01_0812_066.jdx\"\n",
    "data = JCAMP_reader(jcamp_file)\n",
    "im = build_intensity_matrix(data)\n",
    "\n",
    "n_scan, n_mz = im.size\n",
    "\n",
    "for ii in range(n_mz):\n",
    "    ic = im.get_ic_at_index(ii)\n",
    "    ic_smooth = savitzky_golay(ic)\n",
    "    ic_bc = tophat(ic_smooth, struct=\"1.5m\")\n",
    "    im.set_ic_at_index(ii, ic_bc)\n",
    "\n",
    "peak_list = BillerBiemann(im, points=9, scans=2)"
   ],
   "metadata": {
    "collapsed": false,
    "pycharm": {
     "name": "#%%\n",
     "is_executing": false
    }
   }
  },
  {
   "cell_type": "markdown",
   "source": [
    "Compute the noise value."
   ],
   "metadata": {
    "collapsed": false,
    "pycharm": {
     "name": "#%% md\n",
     "is_executing": false
    }
   }
  },
  {
   "cell_type": "code",
   "execution_count": 2,
   "outputs": [
    {
     "data": {
      "text/plain": "424.0177909562639"
     },
     "metadata": {},
     "output_type": "execute_result",
     "execution_count": 2
    }
   ],
   "source": [
    "from pyms.Noise.Analysis import window_analyzer\n",
    "\n",
    "tic = data.tic\n",
    "\n",
    "noise_level = window_analyzer(tic)\n",
    "noise_level"
   ],
   "metadata": {
    "collapsed": false,
    "pycharm": {
     "name": "#%%\n",
     "is_executing": false
    }
   }
  },
  {
   "cell_type": "markdown",
   "source": [
    "Filter the Peak listusing this noise value as the cutoff.\n"
   ],
   "metadata": {
    "collapsed": false,
    "pycharm": {
     "name": "#%% md\n",
     "is_executing": false
    }
   }
  },
  {
   "cell_type": "code",
   "source": [
    "from pyms.BillerBiemann import num_ions_threshold\n",
    "filtered_peak_list = num_ions_threshold(peak_list, n=3, cutoff=noise_level)\n",
    "filtered_peak_list[:10]"
   ],
   "metadata": {
    "collapsed": false,
    "pycharm": {
     "name": "#%% \n",
     "is_executing": false
    }
   },
   "execution_count": 3,
   "outputs": [
    {
     "data": {
      "text/plain": "[<pyms.Peak.Class.Peak at 0x7f52a4b4db70>,\n <pyms.Peak.Class.Peak at 0x7f52a4b4dc88>,\n <pyms.Peak.Class.Peak at 0x7f52a4b4deb8>,\n <pyms.Peak.Class.Peak at 0x7f52a4b4ddd8>,\n <pyms.Peak.Class.Peak at 0x7f52a4b4dfd0>,\n <pyms.Peak.Class.Peak at 0x7f52a4b4dcf8>,\n <pyms.Peak.Class.Peak at 0x7f52a4b4dcc0>,\n <pyms.Peak.Class.Peak at 0x7f52a4b430b8>,\n <pyms.Peak.Class.Peak at 0x7f52a4b43128>,\n <pyms.Peak.Class.Peak at 0x7f52a4b431d0>]"
     },
     "metadata": {},
     "output_type": "execute_result",
     "execution_count": 3
    }
   ]
  },
  {
   "cell_type": "code",
   "execution_count": 4,
   "outputs": [
    {
     "data": {
      "text/plain": "620"
     },
     "metadata": {},
     "output_type": "execute_result",
     "execution_count": 4
    }
   ],
   "source": [
    "len(filtered_peak_list)\n"
   ],
   "metadata": {
    "collapsed": false,
    "pycharm": {
     "name": "#%%\n",
     "is_executing": false
    }
   }
  },
  {
   "cell_type": "markdown",
   "source": [],
   "metadata": {
    "collapsed": false,
    "pycharm": {
     "name": "#%% md\n",
     "is_executing": false
    }
   }
  }
 ],
 "metadata": {
  "kernelspec": {
   "display_name": "Python 3",
   "language": "python",
   "name": "python3"
  },
  "language_info": {
   "codemirror_mode": {
    "name": "ipython",
    "version": 2
   },
   "file_extension": ".py",
   "mimetype": "text/x-python",
   "name": "python",
   "nbconvert_exporter": "python",
   "pygments_lexer": "ipython2",
   "version": "2.7.6"
  },
  "pycharm": {
   "stem_cell": {
    "cell_type": "raw",
    "source": [],
    "metadata": {
     "collapsed": false
    }
   }
  }
 },
 "nbformat": 4,
 "nbformat_minor": 0
}