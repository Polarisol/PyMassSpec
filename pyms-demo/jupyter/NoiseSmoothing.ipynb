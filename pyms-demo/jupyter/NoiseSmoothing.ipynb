{
 "cells": [
  {
   "cell_type": "markdown",
   "source": [
    "# Noise smoothing\n",
    "\n",
    "The purpose of noise smoothing is to remove high-frequency noise from\n",
    "data, and thereby increase the contribution of the signal relative to\n",
    "the contribution of the noise.\n",
    "\n",
    "First, setup the paths to the datafiles and the output directory, then import JCAMP_reader."
   ],
   "metadata": {
    "collapsed": false,
    "pycharm": {
     "name": "#%% md\n"
    }
   }
  },
  {
   "cell_type": "code",
   "execution_count": 1,
   "outputs": [],
   "source": [
    "import pathlib\n",
    "data_directory = pathlib.Path(\".\").resolve().parent.parent / \"pyms-data\"\n",
    "# Change this if the data files are stored in a different location\n",
    "\n",
    "output_directory = pathlib.Path(\".\").resolve() / \"output\"\n",
    "\n",
    "from pyms.GCMS.IO.JCAMP import JCAMP_reader"
   ],
   "metadata": {
    "collapsed": false,
    "pycharm": {
     "name": "#%%\n",
     "is_executing": false
    }
   }
  },
  {
   "cell_type": "markdown",
   "source": [
    "Read the raw data files and extract the TIC."
   ],
   "metadata": {
    "collapsed": false
   }
  },
  {
   "cell_type": "code",
   "execution_count": 2,
   "outputs": [
    {
     "name": "stdout",
     "text": [
      " -> Reading JCAMP file '/home/domdf/Python/00 Projects/pyms-github/pyms-data/gc01_0812_066.jdx'\n"
     ],
     "output_type": "stream"
    }
   ],
   "source": [
    "jcamp_file = data_directory / \"gc01_0812_066.jdx\"\n",
    "data = JCAMP_reader(jcamp_file)\n",
    "tic = data.tic"
   ],
   "metadata": {
    "collapsed": false,
    "pycharm": {
     "name": "#%%\n",
     "is_executing": false
    }
   }
  },
  {
   "cell_type": "markdown",
   "source": [
    "## Window averaging\n",
    "\n",
    "A simple approach to noise smoothing is moving average window smoothing.\n",
    "In this approach the window of a fixed size (:math:`2N+1` points) is moved\n",
    "across the ion chromatogram, and the intensity value at each point is\n",
    "replaced with the mean intensity calculated over the window size.\n",
    "The example below illustrates smoothing of TIC by window averaging.\n",
    "\n",
    "To apply mean window smoothing with a 5-point window:"
   ],
   "metadata": {
    "collapsed": false,
    "pycharm": {
     "name": "#%% md\n"
    }
   }
  },
  {
   "cell_type": "code",
   "execution_count": 3,
   "outputs": [],
   "source": [
    "from pyms.Noise.Window import window_smooth\n",
    "tic1 = window_smooth(tic, window=5)"
   ],
   "metadata": {
    "collapsed": false,
    "pycharm": {
     "name": "#%%\n",
     "is_executing": false
    }
   }
  },
  {
   "cell_type": "markdown",
   "source": [
    "To apply median window smoothing with a 5-point window:"
   ],
   "metadata": {
    "collapsed": false,
    "pycharm": {
     "name": "#%% md\n"
    }
   }
  },
  {
   "cell_type": "code",
   "execution_count": 4,
   "outputs": [],
   "source": [
    "tic2 = window_smooth(tic, window=5, use_median=True)"
   ],
   "metadata": {
    "collapsed": false,
    "pycharm": {
     "name": "#%%\n",
     "is_executing": false
    }
   }
  },
  {
   "cell_type": "markdown",
   "source": [
    "To apply the mean windows smoothing, but specifying the window as\n",
    "a time string (in this example, 7 seconds):"
   ],
   "metadata": {
    "collapsed": false,
    "pycharm": {
     "name": "#%% md\n",
     "is_executing": false
    }
   }
  },
  {
   "cell_type": "code",
   "execution_count": 5,
   "outputs": [],
   "source": [
    "tic3 = window_smooth(tic, window='7s')"
   ],
   "metadata": {
    "collapsed": false,
    "pycharm": {
     "name": "#%%\n",
     "is_executing": false
    }
   }
  },
  {
   "cell_type": "markdown",
   "source": [
    "Write the original TIC and the smoothed TICs to disk:"
   ],
   "metadata": {
    "collapsed": false,
    "pycharm": {
     "name": "#%% md\n"
    }
   }
  },
  {
   "cell_type": "code",
   "execution_count": 6,
   "outputs": [],
   "source": [
    "tic.write(output_directory / \"noise_smoothing_tic.dat\",minutes=True)\n",
    "tic1.write(output_directory / \"noise_smoothing_tic1.dat\",minutes=True)\n",
    "tic2.write(output_directory / \"noise_smoothing_tic2.dat\",minutes=True)"
   ],
   "metadata": {
    "collapsed": false,
    "pycharm": {
     "name": "#%%\n",
     "is_executing": false
    }
   }
  },
  {
   "cell_type": "markdown",
   "source": [
    "## Window Averaging on Intensity Matrix\n",
    "\n",
    "In the previous section, window averaging was applied to an\n",
    "Ion Chromatogram object (in that case a TIC). Where filtering\n",
    "is to be performed on all Ion Chromatograms, the\n",
    "|window_smooth_im()| function may be used instead.\n",
    "\n",
    "The use of this function is identical to the Ion Chromatogram\n",
    "|window_smooth()| function, except that an Intensity Matrix\n",
    "is passed to it.\n",
    "\n",
    "For example, to perform window smoothing on an |IntensityMatrix|\n",
    "object with a 5 point window and mean window smoothing:"
   ],
   "metadata": {
    "collapsed": false,
    "pycharm": {
     "name": "#%% md\n"
    }
   }
  },
  {
   "cell_type": "code",
   "execution_count": 7,
   "outputs": [],
   "source": [
    "from pyms.IntensityMatrix import build_intensity_matrix\n",
    "from pyms.Noise.Window import window_smooth_im\n",
    "im = build_intensity_matrix(data)\n",
    "im_smooth1 = window_smooth_im(im, window = 5, use_median = False)"
   ],
   "metadata": {
    "collapsed": false,
    "pycharm": {
     "name": "#%%\n",
     "is_executing": false
    }
   }
  },
  {
   "cell_type": "markdown",
   "source": [
    "Write the IC for mass 73 to disk for both the original and smoothed |IntensityMatrix|:"
   ],
   "metadata": {
    "collapsed": false,
    "pycharm": {
     "name": "#%% md\n"
    }
   }
  },
  {
   "cell_type": "code",
   "execution_count": 8,
   "outputs": [],
   "source": [
    "ic = im.get_ic_at_index(73)\n",
    "ic_smooth1 = im_smooth1.get_ic_at_index(73)\n",
    "\n",
    "ic.write(output_directory/\"noise_smoothing_ic.dat\",minutes=True)\n",
    "ic_smooth1.write(output_directory/\"noise_smoothing_ic_smooth1.dat\",minutes=True)"
   ],
   "metadata": {
    "collapsed": false,
    "pycharm": {
     "name": "#%%\n",
     "is_executing": false
    }
   }
  },
  {
   "cell_type": "markdown",
   "source": [
    "## Savitzky--Golay noise filter\n",
    "\n",
    "A more sophisticated noise filter is the Savitzky-Golay filter.\n",
    "Given the data loaded as above, this filter can be applied as\n",
    "follows:"
   ],
   "metadata": {
    "collapsed": false,
    "pycharm": {
     "name": "#%% md\n",
     "is_executing": false
    }
   }
  },
  {
   "cell_type": "code",
   "source": [
    "from pyms.Noise.SavitzkyGolay import savitzky_golay\n",
    "tic4 = savitzky_golay(tic)"
   ],
   "metadata": {
    "collapsed": false,
    "pycharm": {
     "name": "#%%\n",
     "is_executing": false
    }
   },
   "execution_count": 9,
   "outputs": []
  },
  {
   "cell_type": "markdown",
   "source": [
    "Write the smoothed TIC to disk:"
   ],
   "metadata": {
    "collapsed": false
   }
  },
  {
   "cell_type": "code",
   "execution_count": 10,
   "outputs": [],
   "source": [
    "tic4.write(output_directory / \"noise_smoothing_tic4.dat\",minutes=True)\n"
   ],
   "metadata": {
    "collapsed": false,
    "pycharm": {
     "name": "#%%\n",
     "is_executing": false
    }
   }
  },
  {
   "cell_type": "markdown",
   "source": [
    "In this example the default parameters were used.\n",
    "\n",
    "### Savitzky-Golay Noise filtering of Intensity Matrix Object\n",
    "\n",
    "The |savitzky_golay()| function described above acts on a single\n",
    "|IonChromatogram|. Where it is desired to perform Savitzky Golay\n",
    "filtering on the whole |IntensityMatrix| the function\n",
    "|savitzky_golay_im()| may be used as follows:"
   ],
   "metadata": {
    "collapsed": false,
    "pycharm": {
     "name": "#%% md\n"
    }
   }
  },
  {
   "cell_type": "code",
   "execution_count": 11,
   "outputs": [],
   "source": [
    "from pyms.Noise.SavitzkyGolay import savitzky_golay_im\n",
    "im_smooth2 = savitzky_golay_im(im)"
   ],
   "metadata": {
    "collapsed": false,
    "pycharm": {
     "name": "#%%\n",
     "is_executing": false
    }
   }
  },
  {
   "cell_type": "markdown",
   "source": [
    "Write the IC for mass 73 in the smoothed |IntensityMatrix| to disk:"
   ],
   "metadata": {
    "collapsed": false
   }
  },
  {
   "cell_type": "code",
   "execution_count": 12,
   "outputs": [],
   "source": [
    "ic_smooth2 = im_smooth2.get_ic_at_index(73)\n",
    "ic_smooth2.write(output_directory/\"noise_smoothing_ic_smooth2.dat\",minutes=True)"
   ],
   "metadata": {
    "collapsed": false,
    "pycharm": {
     "name": "#%%\n",
     "is_executing": false
    }
   }
  },
  {
   "cell_type": "markdown",
   "source": [],
   "metadata": {
    "collapsed": false,
    "pycharm": {
     "name": "#%% md\n"
    }
   }
  }
 ],
 "metadata": {
  "kernelspec": {
   "display_name": "Python 3",
   "language": "python",
   "name": "python3"
  },
  "language_info": {
   "codemirror_mode": {
    "name": "ipython",
    "version": 2
   },
   "file_extension": ".py",
   "mimetype": "text/x-python",
   "name": "python",
   "nbconvert_exporter": "python",
   "pygments_lexer": "ipython2",
   "version": "2.7.6"
  },
  "pycharm": {
   "stem_cell": {
    "cell_type": "raw",
    "source": [],
    "metadata": {
     "collapsed": false
    }
   }
  }
 },
 "nbformat": 4,
 "nbformat_minor": 0
}